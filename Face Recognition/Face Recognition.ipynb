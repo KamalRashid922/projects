{
 "cells": [
  {
   "cell_type": "code",
   "execution_count": 1,
   "id": "2242e57b",
   "metadata": {},
   "outputs": [
    {
     "name": "stdout",
     "output_type": "stream",
     "text": [
      "Collecting opencv-python\n",
      "  Downloading opencv_python-4.5.4.58-cp38-cp38-win_amd64.whl (35.1 MB)\n",
      "Requirement already satisfied: numpy>=1.17.3 in c:\\programdata\\anaconda3\\lib\\site-packages (from opencv-python) (1.20.1)\n",
      "Installing collected packages: opencv-python\n",
      "Successfully installed opencv-python-4.5.4.58\n"
     ]
    }
   ],
   "source": [
    "!pip3 install opencv-python"
   ]
  },
  {
   "cell_type": "code",
   "execution_count": 2,
   "id": "84b8f0e4",
   "metadata": {},
   "outputs": [],
   "source": [
    "import pandas as pd\n",
    "import numpy as np\n",
    "import matplotlib.pyplot as plt\n",
    "import os\n",
    "import cv2"
   ]
  },
  {
   "cell_type": "markdown",
   "id": "5c120966",
   "metadata": {},
   "source": [
    "## load photos"
   ]
  },
  {
   "cell_type": "code",
   "execution_count": 3,
   "id": "c949438d",
   "metadata": {},
   "outputs": [
    {
     "name": "stdout",
     "output_type": "stream",
     "text": [
      "['s1', 's10', 's11', 's12', 's13', 's14', 's15', 's16', 's17', 's18', 's19', 's2', 's20', 's21', 's22', 's23', 's24', 's25', 's26', 's27', 's28', 's29', 's3', 's30', 's31', 's32', 's33', 's34', 's35', 's36', 's37', 's38', 's39', 's4', 's40', 's5', 's6', 's7', 's8', 's9']\n"
     ]
    }
   ],
   "source": [
    "path = \"imgs\"\n",
    "print(os.listdir(path))"
   ]
  },
  {
   "cell_type": "code",
   "execution_count": 4,
   "id": "a6a104aa",
   "metadata": {},
   "outputs": [],
   "source": [
    "data_matrix = np.zeros((400,10304))\n",
    "labels = np.zeros((400,1))\n",
    "#j is for the person number\n",
    "j = 0\n",
    "#i for the label\n",
    "i = 0\n",
    "for s_i in sorted(os.listdir(path)):\n",
    "    if s_i != 'README':\n",
    "        i += 1\n",
    "        folder_path = os.path.join(path,s_i)\n",
    "        for image in sorted(os.listdir(folder_path)):\n",
    "            image_path = os.path.join(folder_path,image)\n",
    "            new_image = cv2.imread(image_path,0)\n",
    "            data_matrix[j,:] = new_image.flatten()\n",
    "            labels[j] = i\n",
    "            j += 1"
   ]
  },
  {
   "cell_type": "markdown",
   "id": "7519b942",
   "metadata": {},
   "source": [
    "# Split Data\n",
    "here, we use 70% of data for training and 30% for testing."
   ]
  },
  {
   "cell_type": "code",
   "execution_count": 5,
   "id": "3d76c49f",
   "metadata": {},
   "outputs": [],
   "source": [
    "training_data = np.zeros((280,10304))\n",
    "testing_data = np.zeros((120,10304))\n",
    "training_labels = np.zeros((280,1))\n",
    "testing_labels = np.zeros((120,1))\n",
    "j = 0\n",
    "train_iterator = 0\n",
    "test_iterator = 0\n",
    "for i1 in range(400):\n",
    "    if j == 10:\n",
    "        j = 0\n",
    "    if j < 7:\n",
    "        for i2 in range(10304):\n",
    "            training_data[train_iterator][i2] = data_matrix[i1][i2]\n",
    "            training_labels[train_iterator][0] = labels[i1][0]\n",
    "        train_iterator += 1\n",
    "    elif j < 10:\n",
    "        for i2 in range(10304):\n",
    "            testing_data[test_iterator][i2] = data_matrix[i1][i2]\n",
    "            testing_labels[test_iterator][0] = labels[i1][0]\n",
    "        test_iterator += 1\n",
    "    j += 1"
   ]
  },
  {
   "cell_type": "markdown",
   "id": "ff0c94bd",
   "metadata": {},
   "source": [
    "# Dimensionality Reduction using PCA"
   ]
  },
  {
   "cell_type": "markdown",
   "id": "7838af02",
   "metadata": {},
   "source": [
    "### Compute mean matrix"
   ]
  },
  {
   "cell_type": "code",
   "execution_count": 8,
   "id": "acda0f50",
   "metadata": {},
   "outputs": [],
   "source": [
    "mean_mat_train = np.mean(training_data, axis=0)\n",
    "mean_mat_test = np.mean(testing_data, axis=0)"
   ]
  },
  {
   "cell_type": "markdown",
   "id": "a4e44c98",
   "metadata": {},
   "source": [
    "### Compute the centered data matrix z "
   ]
  },
  {
   "cell_type": "code",
   "execution_count": 9,
   "id": "7fd85864",
   "metadata": {},
   "outputs": [],
   "source": [
    "z = training_data - mean_mat_train"
   ]
  },
  {
   "cell_type": "markdown",
   "id": "e67b7ce9",
   "metadata": {},
   "source": [
    "### Compute training Covariance matrix"
   ]
  },
  {
   "cell_type": "code",
   "execution_count": 10,
   "id": "59861cbc",
   "metadata": {},
   "outputs": [],
   "source": [
    "cov_train = np.cov(z.T)"
   ]
  },
  {
   "cell_type": "markdown",
   "id": "e759782c",
   "metadata": {},
   "source": [
    "### Compute training eigenvalues & eigenvectors"
   ]
  },
  {
   "cell_type": "code",
   "execution_count": 11,
   "id": "6a2f58b9",
   "metadata": {},
   "outputs": [],
   "source": [
    "values, vectors = np.linalg.eigh(cov_train)\n",
    "flipped_values = np.flip(values)\n",
    "flipped_vectors = np.fliplr(vectors)"
   ]
  },
  {
   "cell_type": "markdown",
   "id": "3a83cf72",
   "metadata": {},
   "source": [
    "### Choosing smallest r so that fr >= alpha \n",
    "get the number of features after reduction for each value of alpha."
   ]
  },
  {
   "cell_type": "code",
   "execution_count": 12,
   "id": "1e032f90",
   "metadata": {},
   "outputs": [],
   "source": [
    "alpha = np.array([0.8, 0.85, 0.9, 0.95])\n",
    "assending_sum = 0\n",
    "index = 0\n",
    "sum_values = np.sum(flipped_values)\n",
    "fr = 0\n",
    "num_of_columns = np.zeros(4)\n",
    "rotation = 0\n",
    "for a in alpha:\n",
    "    while fr < a:\n",
    "        assending_sum += flipped_values[index]\n",
    "        fr = assending_sum/sum_values\n",
    "        index += 1\n",
    "    num_of_columns[rotation] = index - 1\n",
    "    rotation += 1"
   ]
  },
  {
   "cell_type": "code",
   "execution_count": 13,
   "id": "7019d711",
   "metadata": {},
   "outputs": [
    {
     "data": {
      "text/plain": [
       "array([ 37.,  56.,  88., 144.])"
      ]
     },
     "execution_count": 13,
     "metadata": {},
     "output_type": "execute_result"
    }
   ],
   "source": [
    "num_of_columns"
   ]
  },
  {
   "cell_type": "markdown",
   "id": "fa011d5c",
   "metadata": {},
   "source": [
    "#### so here we see that when the value of alpha increases, the dimensions also increase as we need to take more features to capture the required percentage of data variances."
   ]
  },
  {
   "cell_type": "markdown",
   "id": "e375979e",
   "metadata": {},
   "source": [
    "## Compute projection matrices for each value of alpha"
   ]
  },
  {
   "cell_type": "code",
   "execution_count": 14,
   "id": "3acd22aa",
   "metadata": {},
   "outputs": [],
   "source": [
    "proj_train_mat_a1 = np.dot(training_data, flipped_vectors[: , 0:int(num_of_columns[0])])\n",
    "proj_test_mat_a1 = np.dot(testing_data, flipped_vectors[:, 0:int(num_of_columns[0])])\n",
    "proj_train_mat_a2 = np.dot(training_data, flipped_vectors[: , 0:int(num_of_columns[1])])\n",
    "proj_test_mat_a2 = np.dot(testing_data, flipped_vectors[:, 0:int(num_of_columns[1])])\n",
    "proj_train_mat_a3 = np.dot(training_data, flipped_vectors[: , 0:int(num_of_columns[2])])\n",
    "proj_test_mat_a3 = np.dot(testing_data, flipped_vectors[:, 0:int(num_of_columns[2])])\n",
    "proj_train_mat_a4 = np.dot(training_data, flipped_vectors[: , 0:int(num_of_columns[3])])\n",
    "proj_test_mat_a4 = np.dot(testing_data, flipped_vectors[:, 0:int(num_of_columns[3])])"
   ]
  },
  {
   "cell_type": "markdown",
   "id": "304c316b",
   "metadata": {},
   "source": [
    "# Applying 1NN Classifier and calculate accuracy for each value of alpha"
   ]
  },
  {
   "cell_type": "code",
   "execution_count": 15,
   "id": "19f07d79",
   "metadata": {},
   "outputs": [],
   "source": [
    "from sklearn.neighbors import KNeighborsClassifier\n",
    "from sklearn.metrics import accuracy_score\n",
    "\n",
    "training_labels = training_labels.flatten()\n",
    "testing_labels = testing_labels.flatten()"
   ]
  },
  {
   "cell_type": "code",
   "execution_count": 16,
   "id": "81019856",
   "metadata": {},
   "outputs": [
    {
     "name": "stdout",
     "output_type": "stream",
     "text": [
      "0.9666666666666667\n"
     ]
    }
   ],
   "source": [
    "knn = KNeighborsClassifier(n_neighbors=1)\n",
    "knn.fit(proj_train_mat_a1, training_labels)\n",
    "predict_labels_a1 = knn.predict(proj_test_mat_a1)\n",
    "accuarcy_a1 = accuracy_score(testing_labels, predict_labels_a1)\n",
    "print(accuarcy_a1)"
   ]
  },
  {
   "cell_type": "code",
   "execution_count": 17,
   "id": "cc2769c1",
   "metadata": {},
   "outputs": [
    {
     "name": "stdout",
     "output_type": "stream",
     "text": [
      "0.9583333333333334\n"
     ]
    }
   ],
   "source": [
    "knn.fit(proj_train_mat_a2, training_labels)\n",
    "predict_labels_a2 = knn.predict(proj_test_mat_a2)\n",
    "accuarcy_a2 = accuracy_score(testing_labels, predict_labels_a2)\n",
    "print(accuarcy_a2)"
   ]
  },
  {
   "cell_type": "code",
   "execution_count": 18,
   "id": "cb72b86c",
   "metadata": {},
   "outputs": [
    {
     "name": "stdout",
     "output_type": "stream",
     "text": [
      "0.95\n"
     ]
    }
   ],
   "source": [
    "knn.fit(proj_train_mat_a3, training_labels)\n",
    "predict_labels_a3 = knn.predict(proj_test_mat_a3)\n",
    "accuarcy_a3 = accuracy_score(testing_labels, predict_labels_a3)\n",
    "print(accuarcy_a3)"
   ]
  },
  {
   "cell_type": "code",
   "execution_count": 19,
   "id": "13f51362",
   "metadata": {},
   "outputs": [
    {
     "name": "stdout",
     "output_type": "stream",
     "text": [
      "0.9416666666666667\n"
     ]
    }
   ],
   "source": [
    "knn.fit(proj_train_mat_a4, training_labels)\n",
    "predict_labels_a4 = knn.predict(proj_test_mat_a4)\n",
    "accuarcy_a4 = accuracy_score(testing_labels, predict_labels_a4)\n",
    "print(accuarcy_a4)"
   ]
  },
  {
   "cell_type": "markdown",
   "id": "c5ce1619",
   "metadata": {},
   "source": [
    "we notice that the accuracy increased when we increased the training data"
   ]
  },
  {
   "cell_type": "markdown",
   "id": "f008ce8f",
   "metadata": {},
   "source": [
    "# Tuning K-NN Classifier\n",
    "set the number of neighbors in K-NN Classifier to 3, 5, 7."
   ]
  },
  {
   "cell_type": "code",
   "execution_count": 20,
   "id": "fc776bf6",
   "metadata": {},
   "outputs": [],
   "source": [
    "k_values = np.array([1, 3, 5, 7])\n",
    "acc_all = np.zeros((4,4))\n",
    "for i in range(len(k_values)):\n",
    "    knn = KNeighborsClassifier(n_neighbors=k_values[i])\n",
    "        # accuracy for alpha a1 = 0.8\n",
    "    knn.fit(proj_train_mat_a1, training_labels)\n",
    "    predict_labels_a1 = knn.predict(proj_test_mat_a1)\n",
    "    acc_all[i][0] = accuracy_score(testing_labels, predict_labels_a1)\n",
    "       \n",
    "        # accuracy for alpha a2 = 0.85\n",
    "    knn.fit(proj_train_mat_a2, training_labels)\n",
    "    predict_labels_a2 = knn.predict(proj_test_mat_a2)\n",
    "    acc_all[i][1] = accuracy_score(testing_labels, predict_labels_a2)\n",
    "       \n",
    "        # accuracy for alpha a3 = 0.9\n",
    "    knn.fit(proj_train_mat_a3, training_labels)\n",
    "    predict_labels_a3 = knn.predict(proj_test_mat_a3)\n",
    "    acc_all[i][2] = accuracy_score(testing_labels, predict_labels_a3)\n",
    "       \n",
    "        # accuracy for alpha a4 = 0.95\n",
    "    knn.fit(proj_train_mat_a4, training_labels)\n",
    "    predict_labels_a4 = knn.predict(proj_test_mat_a4)\n",
    "    acc_all[i][3] = accuracy_score(testing_labels, predict_labels_a4)"
   ]
  },
  {
   "cell_type": "code",
   "execution_count": 21,
   "id": "72ea786c",
   "metadata": {},
   "outputs": [
    {
     "data": {
      "text/plain": [
       "array([[0.96666667, 0.95833333, 0.95      , 0.94166667],\n",
       "       [0.90833333, 0.90833333, 0.90833333, 0.9       ],\n",
       "       [0.875     , 0.89166667, 0.875     , 0.875     ],\n",
       "       [0.80833333, 0.80833333, 0.80833333, 0.79166667]])"
      ]
     },
     "execution_count": 21,
     "metadata": {},
     "output_type": "execute_result"
    }
   ],
   "source": [
    "acc_all"
   ]
  },
  {
   "cell_type": "markdown",
   "id": "d3f2f64e",
   "metadata": {},
   "source": [
    "so when the number of neighbors in the K-NN Classifier increases, the accuracy decreases for all the values of alpha"
   ]
  },
  {
   "cell_type": "code",
   "execution_count": 22,
   "id": "e595ae19",
   "metadata": {},
   "outputs": [
    {
     "data": {
      "text/plain": [
       "[<matplotlib.lines.Line2D at 0x28781d5e4c0>]"
      ]
     },
     "execution_count": 22,
     "metadata": {},
     "output_type": "execute_result"
    },
    {
     "data": {
      "image/png": "[encoded data removed]",
      "text/plain": [
       "<Figure size 432x288 with 1 Axes>"
      ]
     },
     "metadata": {
      "needs_background": "light"
     },
     "output_type": "display_data"
    }
   ],
   "source": [
    "plt.title('Accuracy for alpha = 0.8')\n",
    "plt.xlabel('K Value')\n",
    "plt.ylabel('Accuracy %')\n",
    "plt.plot(k_values, acc_all.T[0])"
   ]
  },
  {
   "cell_type": "code",
   "execution_count": 23,
   "id": "6c094235",
   "metadata": {},
   "outputs": [
    {
     "data": {
      "text/plain": [
       "[<matplotlib.lines.Line2D at 0x28781e35d00>]"
      ]
     },
     "execution_count": 23,
     "metadata": {},
     "output_type": "execute_result"
    },
    {
     "data": {
      "image/png": "[encoded data removed]",
      "text/plain": [
       "<Figure size 432x288 with 1 Axes>"
      ]
     },
     "metadata": {
      "needs_background": "light"
     },
     "output_type": "display_data"
    }
   ],
   "source": [
    "plt.title('Accuracy for alpha = 0.85')\n",
    "plt.xlabel('K Value')\n",
    "plt.ylabel('Accuracy %')\n",
    "plt.plot(k_values, acc_all.T[1])"
   ]
  },
  {
   "cell_type": "code",
   "execution_count": 24,
   "id": "627ebd75",
   "metadata": {},
   "outputs": [
    {
     "data": {
      "text/plain": [
       "[<matplotlib.lines.Line2D at 0x28781e9db50>]"
      ]
     },
     "execution_count": 24,
     "metadata": {},
     "output_type": "execute_result"
    },
    {
     "data": {
      "image/png": "[encoded data removed]",
      "text/plain": [
       "<Figure size 432x288 with 1 Axes>"
      ]
     },
     "metadata": {
      "needs_background": "light"
     },
     "output_type": "display_data"
    }
   ],
   "source": [
    "plt.title('Accuracy for alpha = 0.9')\n",
    "plt.xlabel('K Value')\n",
    "plt.ylabel('Accuracy %')\n",
    "plt.plot(k_values, acc_all.T[2])"
   ]
  },
  {
   "cell_type": "code",
   "execution_count": 25,
   "id": "f5cf28ab",
   "metadata": {},
   "outputs": [
    {
     "data": {
      "text/plain": [
       "[<matplotlib.lines.Line2D at 0x28781f05070>]"
      ]
     },
     "execution_count": 25,
     "metadata": {},
     "output_type": "execute_result"
    },
    {
     "data": {
      "image/png": "[encoded data removed]",
      "text/plain": [
       "<Figure size 432x288 with 1 Axes>"
      ]
     },
     "metadata": {
      "needs_background": "light"
     },
     "output_type": "display_data"
    }
   ],
   "source": [
    "plt.title('Accuracy for alpha = 0.95')\n",
    "plt.xlabel('K Value')\n",
    "plt.ylabel('Accuracy %')\n",
    "plt.plot(k_values, acc_all.T[3])"
   ]
  },
  {
   "cell_type": "code",
   "execution_count": null,
   "id": "8f67b81d",
   "metadata": {},
   "outputs": [],
   "source": []
  }
 ],
 "metadata": {
  "kernelspec": {
   "display_name": "Python 3",
   "language": "python",
   "name": "python3"
  },
  "language_info": {
   "codemirror_mode": {
    "name": "ipython",
    "version": 3
   },
   "file_extension": ".py",
   "mimetype": "text/x-python",
   "name": "python",
   "nbconvert_exporter": "python",
   "pygments_lexer": "ipython3",
   "version": "3.8.8"
  }
 },
 "nbformat": 4,
 "nbformat_minor": 5
}
